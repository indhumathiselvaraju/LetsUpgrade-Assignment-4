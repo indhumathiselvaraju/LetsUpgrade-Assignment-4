{
  "nbformat": 4,
  "nbformat_minor": 0,
  "metadata": {
    "colab": {
      "name": "Untitled2.ipynb",
      "provenance": [],
      "authorship_tag": "ABX9TyNMGcGXCEtq2OHlp3faVIgQ",
      "include_colab_link": true
    },
    "kernelspec": {
      "name": "python3",
      "display_name": "Python 3"
    }
  },
  "cells": [
    {
      "cell_type": "markdown",
      "metadata": {
        "id": "view-in-github",
        "colab_type": "text"
      },
      "source": [
        "<a href=\"https://colab.research.google.com/github/indhumathiselvaraju/LetsUpgrade-Assignment-4/blob/main/Assignment-4.ipynb\" target=\"_parent\"><img src=\"https://colab.research.google.com/assets/colab-badge.svg\" alt=\"Open In Colab\"/></a>"
      ]
    },
    {
      "cell_type": "code",
      "metadata": {
        "id": "LKUpGDF0rC1R"
      },
      "source": [
        "#Assignment 4"
      ],
      "execution_count": null,
      "outputs": []
    },
    {
      "cell_type": "code",
      "metadata": {
        "colab": {
          "base_uri": "https://localhost:8080/"
        },
        "id": "V6YOAA9H6dgY",
        "outputId": "97bced19-0e09-4a45-cb9e-38fd37b16e94"
      },
      "source": [
        "n= 23\r\n",
        "fact =1\r\n",
        "for i in range (1,n+1):\r\n",
        "    fact=fact*i\r\n",
        "    print (\"the factorial of 10 is : \",end=\" \")\r\n",
        "    print (fact)"
      ],
      "execution_count": 10,
      "outputs": [
        {
          "output_type": "stream",
          "text": [
            "the factorial of 10 is :  1\n",
            "the factorial of 10 is :  2\n",
            "the factorial of 10 is :  6\n",
            "the factorial of 10 is :  24\n",
            "the factorial of 10 is :  120\n",
            "the factorial of 10 is :  720\n",
            "the factorial of 10 is :  5040\n",
            "the factorial of 10 is :  40320\n",
            "the factorial of 10 is :  362880\n",
            "the factorial of 10 is :  3628800\n",
            "the factorial of 10 is :  39916800\n",
            "the factorial of 10 is :  479001600\n",
            "the factorial of 10 is :  6227020800\n",
            "the factorial of 10 is :  87178291200\n",
            "the factorial of 10 is :  1307674368000\n",
            "the factorial of 10 is :  20922789888000\n",
            "the factorial of 10 is :  355687428096000\n",
            "the factorial of 10 is :  6402373705728000\n",
            "the factorial of 10 is :  121645100408832000\n",
            "the factorial of 10 is :  2432902008176640000\n",
            "the factorial of 10 is :  51090942171709440000\n",
            "the factorial of 10 is :  1124000727777607680000\n",
            "the factorial of 10 is :  25852016738884976640000\n"
          ],
          "name": "stdout"
        }
      ]
    }
  ]
}